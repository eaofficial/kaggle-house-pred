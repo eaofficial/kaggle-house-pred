{
 "cells": [
  {
   "cell_type": "code",
   "execution_count": 351,
   "metadata": {},
   "outputs": [],
   "source": [
    "import pandas as pd\n",
    "import numpy as np\n",
    "from numpy.core.umath_tests import inner1d\n",
    "import matplotlib.pyplot as plt"
   ]
  },
  {
   "cell_type": "code",
   "execution_count": 352,
   "metadata": {},
   "outputs": [],
   "source": [
    "house_train = pd.read_csv(\"house-pred/train.csv\")\n",
    "house_test = pd.read_csv(\"house-pred/test.csv\")"
   ]
  },
  {
   "cell_type": "code",
   "execution_count": 403,
   "metadata": {},
   "outputs": [
    {
     "data": {
      "text/html": [
       "<div>\n",
       "<style scoped>\n",
       "    .dataframe tbody tr th:only-of-type {\n",
       "        vertical-align: middle;\n",
       "    }\n",
       "\n",
       "    .dataframe tbody tr th {\n",
       "        vertical-align: top;\n",
       "    }\n",
       "\n",
       "    .dataframe thead th {\n",
       "        text-align: right;\n",
       "    }\n",
       "</style>\n",
       "<table border=\"1\" class=\"dataframe\">\n",
       "  <thead>\n",
       "    <tr style=\"text-align: right;\">\n",
       "      <th></th>\n",
       "      <th>Id</th>\n",
       "      <th>MSSubClass</th>\n",
       "      <th>MSZoning</th>\n",
       "      <th>LotFrontage</th>\n",
       "      <th>LotArea</th>\n",
       "      <th>Alley</th>\n",
       "      <th>LotShape</th>\n",
       "      <th>LotConfig</th>\n",
       "      <th>LandSlope</th>\n",
       "      <th>Neighborhood</th>\n",
       "      <th>...</th>\n",
       "      <th>EnclosedPorch</th>\n",
       "      <th>ScreenPorch</th>\n",
       "      <th>PoolArea</th>\n",
       "      <th>PoolQC</th>\n",
       "      <th>Fence</th>\n",
       "      <th>MiscFeature</th>\n",
       "      <th>YrSold</th>\n",
       "      <th>SaleType</th>\n",
       "      <th>SaleCondition</th>\n",
       "      <th>SalePrice</th>\n",
       "    </tr>\n",
       "  </thead>\n",
       "  <tbody>\n",
       "    <tr>\n",
       "      <th>0</th>\n",
       "      <td>1</td>\n",
       "      <td>60</td>\n",
       "      <td>RL</td>\n",
       "      <td>65.0</td>\n",
       "      <td>8450</td>\n",
       "      <td>NaN</td>\n",
       "      <td>Reg</td>\n",
       "      <td>Inside</td>\n",
       "      <td>Gtl</td>\n",
       "      <td>CollgCr</td>\n",
       "      <td>...</td>\n",
       "      <td>0</td>\n",
       "      <td>0</td>\n",
       "      <td>0</td>\n",
       "      <td>NaN</td>\n",
       "      <td>NaN</td>\n",
       "      <td>NaN</td>\n",
       "      <td>2008</td>\n",
       "      <td>WD</td>\n",
       "      <td>Normal</td>\n",
       "      <td>208500</td>\n",
       "    </tr>\n",
       "    <tr>\n",
       "      <th>1</th>\n",
       "      <td>2</td>\n",
       "      <td>20</td>\n",
       "      <td>RL</td>\n",
       "      <td>80.0</td>\n",
       "      <td>9600</td>\n",
       "      <td>NaN</td>\n",
       "      <td>Reg</td>\n",
       "      <td>FR2</td>\n",
       "      <td>Gtl</td>\n",
       "      <td>Veenker</td>\n",
       "      <td>...</td>\n",
       "      <td>0</td>\n",
       "      <td>0</td>\n",
       "      <td>0</td>\n",
       "      <td>NaN</td>\n",
       "      <td>NaN</td>\n",
       "      <td>NaN</td>\n",
       "      <td>2007</td>\n",
       "      <td>WD</td>\n",
       "      <td>Normal</td>\n",
       "      <td>181500</td>\n",
       "    </tr>\n",
       "    <tr>\n",
       "      <th>2</th>\n",
       "      <td>3</td>\n",
       "      <td>60</td>\n",
       "      <td>RL</td>\n",
       "      <td>68.0</td>\n",
       "      <td>11250</td>\n",
       "      <td>NaN</td>\n",
       "      <td>IR1</td>\n",
       "      <td>Inside</td>\n",
       "      <td>Gtl</td>\n",
       "      <td>CollgCr</td>\n",
       "      <td>...</td>\n",
       "      <td>0</td>\n",
       "      <td>0</td>\n",
       "      <td>0</td>\n",
       "      <td>NaN</td>\n",
       "      <td>NaN</td>\n",
       "      <td>NaN</td>\n",
       "      <td>2008</td>\n",
       "      <td>WD</td>\n",
       "      <td>Normal</td>\n",
       "      <td>223500</td>\n",
       "    </tr>\n",
       "    <tr>\n",
       "      <th>3</th>\n",
       "      <td>4</td>\n",
       "      <td>70</td>\n",
       "      <td>RL</td>\n",
       "      <td>60.0</td>\n",
       "      <td>9550</td>\n",
       "      <td>NaN</td>\n",
       "      <td>IR1</td>\n",
       "      <td>Corner</td>\n",
       "      <td>Gtl</td>\n",
       "      <td>Crawfor</td>\n",
       "      <td>...</td>\n",
       "      <td>272</td>\n",
       "      <td>0</td>\n",
       "      <td>0</td>\n",
       "      <td>NaN</td>\n",
       "      <td>NaN</td>\n",
       "      <td>NaN</td>\n",
       "      <td>2006</td>\n",
       "      <td>WD</td>\n",
       "      <td>Abnorml</td>\n",
       "      <td>140000</td>\n",
       "    </tr>\n",
       "    <tr>\n",
       "      <th>4</th>\n",
       "      <td>5</td>\n",
       "      <td>60</td>\n",
       "      <td>RL</td>\n",
       "      <td>84.0</td>\n",
       "      <td>14260</td>\n",
       "      <td>NaN</td>\n",
       "      <td>IR1</td>\n",
       "      <td>FR2</td>\n",
       "      <td>Gtl</td>\n",
       "      <td>NoRidge</td>\n",
       "      <td>...</td>\n",
       "      <td>0</td>\n",
       "      <td>0</td>\n",
       "      <td>0</td>\n",
       "      <td>NaN</td>\n",
       "      <td>NaN</td>\n",
       "      <td>NaN</td>\n",
       "      <td>2008</td>\n",
       "      <td>WD</td>\n",
       "      <td>Normal</td>\n",
       "      <td>250000</td>\n",
       "    </tr>\n",
       "  </tbody>\n",
       "</table>\n",
       "<p>5 rows × 71 columns</p>\n",
       "</div>"
      ],
      "text/plain": [
       "   Id  MSSubClass MSZoning  LotFrontage  LotArea Alley LotShape LotConfig  \\\n",
       "0   1          60       RL         65.0     8450   NaN      Reg    Inside   \n",
       "1   2          20       RL         80.0     9600   NaN      Reg       FR2   \n",
       "2   3          60       RL         68.0    11250   NaN      IR1    Inside   \n",
       "3   4          70       RL         60.0     9550   NaN      IR1    Corner   \n",
       "4   5          60       RL         84.0    14260   NaN      IR1       FR2   \n",
       "\n",
       "  LandSlope Neighborhood    ...    EnclosedPorch ScreenPorch PoolArea  PoolQC  \\\n",
       "0       Gtl      CollgCr    ...                0           0        0     NaN   \n",
       "1       Gtl      Veenker    ...                0           0        0     NaN   \n",
       "2       Gtl      CollgCr    ...                0           0        0     NaN   \n",
       "3       Gtl      Crawfor    ...              272           0        0     NaN   \n",
       "4       Gtl      NoRidge    ...                0           0        0     NaN   \n",
       "\n",
       "   Fence  MiscFeature  YrSold SaleType SaleCondition SalePrice  \n",
       "0    NaN          NaN    2008       WD        Normal    208500  \n",
       "1    NaN          NaN    2007       WD        Normal    181500  \n",
       "2    NaN          NaN    2008       WD        Normal    223500  \n",
       "3    NaN          NaN    2006       WD       Abnorml    140000  \n",
       "4    NaN          NaN    2008       WD        Normal    250000  \n",
       "\n",
       "[5 rows x 71 columns]"
      ]
     },
     "execution_count": 403,
     "metadata": {},
     "output_type": "execute_result"
    }
   ],
   "source": [
    "house.head()\n"
   ]
  },
  {
   "cell_type": "code",
   "execution_count": 405,
   "metadata": {},
   "outputs": [],
   "source": [
    "house_train_num = df_num = house_train.select_dtypes(include=['float64', 'int'])"
   ]
  },
  {
   "cell_type": "code",
   "execution_count": 406,
   "metadata": {},
   "outputs": [
    {
     "data": {
      "text/plain": [
       "[<matplotlib.lines.Line2D at 0x7f8db8af0b70>,\n",
       " <matplotlib.lines.Line2D at 0x7f8db8af02b0>,\n",
       " <matplotlib.lines.Line2D at 0x7f8db8af0eb8>,\n",
       " <matplotlib.lines.Line2D at 0x7f8db8af0358>,\n",
       " <matplotlib.lines.Line2D at 0x7f8db8af03c8>,\n",
       " <matplotlib.lines.Line2D at 0x7f8db8af0320>,\n",
       " <matplotlib.lines.Line2D at 0x7f8db8af0b38>,\n",
       " <matplotlib.lines.Line2D at 0x7f8db8af0f60>,\n",
       " <matplotlib.lines.Line2D at 0x7f8dc0408748>,\n",
       " <matplotlib.lines.Line2D at 0x7f8dc0408da0>,\n",
       " <matplotlib.lines.Line2D at 0x7f8dc0408588>,\n",
       " <matplotlib.lines.Line2D at 0x7f8dc0408438>,\n",
       " <matplotlib.lines.Line2D at 0x7f8dc0408860>,\n",
       " <matplotlib.lines.Line2D at 0x7f8dc0408e48>,\n",
       " <matplotlib.lines.Line2D at 0x7f8dc04084a8>,\n",
       " <matplotlib.lines.Line2D at 0x7f8dc04086d8>,\n",
       " <matplotlib.lines.Line2D at 0x7f8dc0408320>,\n",
       " <matplotlib.lines.Line2D at 0x7f8dc04080b8>,\n",
       " <matplotlib.lines.Line2D at 0x7f8dc0408400>,\n",
       " <matplotlib.lines.Line2D at 0x7f8db8a9ac50>,\n",
       " <matplotlib.lines.Line2D at 0x7f8dc03fa898>,\n",
       " <matplotlib.lines.Line2D at 0x7f8dc0c68ac8>,\n",
       " <matplotlib.lines.Line2D at 0x7f8dc0c68a58>,\n",
       " <matplotlib.lines.Line2D at 0x7f8dc0c68908>,\n",
       " <matplotlib.lines.Line2D at 0x7f8dc0c687b8>,\n",
       " <matplotlib.lines.Line2D at 0x7f8dc0c689b0>,\n",
       " <matplotlib.lines.Line2D at 0x7f8dc0c68f28>,\n",
       " <matplotlib.lines.Line2D at 0x7f8dc0c68198>,\n",
       " <matplotlib.lines.Line2D at 0x7f8dc0c68f98>,\n",
       " <matplotlib.lines.Line2D at 0x7f8dc0c549e8>,\n",
       " <matplotlib.lines.Line2D at 0x7f8dc0c683c8>,\n",
       " <matplotlib.lines.Line2D at 0x7f8db8c97cf8>,\n",
       " <matplotlib.lines.Line2D at 0x7f8db8c971d0>]"
      ]
     },
     "execution_count": 406,
     "metadata": {},
     "output_type": "execute_result"
    },
    {
     "data": {
      "image/png": "[encoded data removed]",
      "text/plain": [
       "<Figure size 432x288 with 1 Axes>"
      ]
     },
     "metadata": {
      "needs_background": "light"
     },
     "output_type": "display_data"
    }
   ],
   "source": [
    "plt.plot(house_train_num)"
   ]
  },
  {
   "cell_type": "markdown",
   "metadata": {},
   "source": [
    "#### Removing Unnecessary variables"
   ]
  },
  {
   "cell_type": "code",
   "execution_count": 354,
   "metadata": {},
   "outputs": [],
   "source": [
    "house_train.drop(['3SsnPorch', 'Street', 'LandContour', 'Condition2', 'BsmtFinSF2', 'Utilities', 'BsmtHalfBath', 'BsmtCond', 'MoSold', 'MiscVal'], axis=1, inplace=True)\n",
    "house_test.drop(['3SsnPorch', 'Street', 'LandContour', 'Condition2', 'BsmtFinSF2', 'Utilities', 'BsmtHalfBath', 'BsmtCond', 'MoSold', 'MiscVal'], axis=1, inplace=True)"
   ]
  },
  {
   "cell_type": "code",
   "execution_count": 373,
   "metadata": {},
   "outputs": [
    {
     "data": {
      "text/plain": [
       "(1459, 70)"
      ]
     },
     "execution_count": 373,
     "metadata": {},
     "output_type": "execute_result"
    }
   ],
   "source": [
    "house_test.shape"
   ]
  },
  {
   "cell_type": "code",
   "execution_count": 295,
   "metadata": {
    "scrolled": true
   },
   "outputs": [],
   "source": [
    "from sklearn.preprocessing import LabelEncoder\n",
    "def preProcessing(df):\n",
    "    le = LabelEncoder()\n",
    "    df_result = df.copy()\n",
    "    \n",
    "    for column in df_result:\n",
    "        if type(df_result[column][0]) == str:\n",
    "            #print('Col: %s' %column)\n",
    "            df_result[column].fillna('N/A', inplace=True) # Missing values\n",
    "            df_result[column] = le.fit_transform(df_result[column]) # Factorize\n",
    "        else:\n",
    "            if column == 'Alley' or column == 'MiscFeature' or column == 'Fence' or column == 'ExterQual' \\\n",
    "                or column == 'ExterCond' or column == 'BsmtQual' or column == 'BsmtCond' or column == 'BsmtExposure' :\n",
    "                    df_result[column].fillna('N/A', inplace=True) # Missing values\n",
    "                    df_result[column] = le.fit_transform(df_result[column]) # Factorize\n",
    "            else:\n",
    "                df_result[column].fillna(0, inplace=True) # Missing values\n",
    "                \n",
    "    df_result.drop(['3SsnPorch', 'Street', 'LandContour', 'Condition2', \n",
    "                    'BsmtFinSF2', 'Utilities', 'BsmtHalfBath', 'BsmtCond', 'MoSold', 'MiscVal'], axis=1, inplace=True)\n",
    "      \n",
    "    return df_result"
   ]
  },
  {
   "cell_type": "code",
   "execution_count": 296,
   "metadata": {},
   "outputs": [],
   "source": [
    "house_train_prepd = preProcessing(house_train)\n",
    "house_test_prepd = preProcessing(house_test)"
   ]
  },
  {
   "cell_type": "markdown",
   "metadata": {},
   "source": [
    "### Alternate for PreProcessing"
   ]
  },
  {
   "cell_type": "code",
   "execution_count": null,
   "metadata": {},
   "outputs": [],
   "source": []
  },
  {
   "cell_type": "code",
   "execution_count": 378,
   "metadata": {},
   "outputs": [],
   "source": [
    "def data_pre(df):\n",
    "    df_num = df.select_dtypes(include=['float64', 'int'])\n",
    "    df_cat = df.select_dtypes(exclude=['float64', 'int'])\n",
    "    df_cat.fillna('nan',inplace=True)\n",
    "    df_num.fillna(0, inplace=True)\n",
    "    df_cat = df_cat.apply(labelencoder.fit_transform)\n",
    "    #house_cat_new = pd.get_dummies(house_cat)\n",
    "    #house_cat_new.shape\n",
    "    ####### joining numerical and catagorical features ########\n",
    "    df_prepd = pd.concat([df_num, df_cat], axis=1)\n",
    "    return df_prepd\n"
   ]
  },
  {
   "cell_type": "code",
   "execution_count": 379,
   "metadata": {},
   "outputs": [
    {
     "name": "stderr",
     "output_type": "stream",
     "text": [
      "/home/ea/.local/lib/python3.5/site-packages/pandas/core/frame.py:3790: SettingWithCopyWarning: \n",
      "A value is trying to be set on a copy of a slice from a DataFrame\n",
      "\n",
      "See the caveats in the documentation: http://pandas.pydata.org/pandas-docs/stable/indexing.html#indexing-view-versus-copy\n",
      "  downcast=downcast, **kwargs)\n"
     ]
    }
   ],
   "source": [
    "house_train_prepd = data_pre(house_train)\n",
    "house_test_prepd = data_pre(house_test)\n"
   ]
  },
  {
   "cell_type": "code",
   "execution_count": 380,
   "metadata": {},
   "outputs": [
    {
     "data": {
      "text/plain": [
       "(1460, 71)"
      ]
     },
     "execution_count": 380,
     "metadata": {},
     "output_type": "execute_result"
    }
   ],
   "source": [
    "house_train_prepd.shape"
   ]
  },
  {
   "cell_type": "code",
   "execution_count": 381,
   "metadata": {},
   "outputs": [],
   "source": [
    "house_y = house_train_prepd['SalePrice']\n",
    "house_x = house_train_prepd.drop('SalePrice',axis=1)"
   ]
  },
  {
   "cell_type": "code",
   "execution_count": 382,
   "metadata": {},
   "outputs": [
    {
     "data": {
      "text/plain": [
       "Id              -0.021917\n",
       "MSSubClass      -0.084284\n",
       "LotFrontage      0.209624\n",
       "LotArea          0.263843\n",
       "OverallQual      0.790982\n",
       "OverallCond     -0.077856\n",
       "YearBuilt        0.522897\n",
       "YearRemodAdd     0.507101\n",
       "MasVnrArea       0.472614\n",
       "BsmtFinSF1       0.386420\n",
       "BsmtFinSF2      -0.011378\n",
       "BsmtUnfSF        0.214479\n",
       "TotalBsmtSF      0.613581\n",
       "1stFlrSF         0.605852\n",
       "2ndFlrSF         0.319334\n",
       "LowQualFinSF    -0.025606\n",
       "GrLivArea        0.708624\n",
       "BsmtFullBath     0.227122\n",
       "BsmtHalfBath    -0.016844\n",
       "FullBath         0.560664\n",
       "HalfBath         0.284108\n",
       "BedroomAbvGr     0.168213\n",
       "KitchenAbvGr    -0.135907\n",
       "TotRmsAbvGrd     0.533723\n",
       "Fireplaces       0.466929\n",
       "GarageYrBlt      0.261366\n",
       "GarageCars       0.640409\n",
       "GarageArea       0.623431\n",
       "WoodDeckSF       0.324413\n",
       "OpenPorchSF      0.315856\n",
       "EnclosedPorch   -0.128578\n",
       "3SsnPorch        0.044584\n",
       "ScreenPorch      0.111447\n",
       "PoolArea         0.092404\n",
       "MiscVal         -0.021190\n",
       "MoSold           0.046432\n",
       "YrSold          -0.028923\n",
       "SalePrice        1.000000\n",
       "Name: SalePrice, dtype: float64"
      ]
     },
     "execution_count": 382,
     "metadata": {},
     "output_type": "execute_result"
    }
   ],
   "source": [
    "corr_mat = house_num.corr()\n",
    "corr_mat['SalePrice']"
   ]
  },
  {
   "cell_type": "code",
   "execution_count": 407,
   "metadata": {},
   "outputs": [
    {
     "data": {
      "text/plain": [
       "[<matplotlib.lines.Line2D at 0x7f8d9643f438>,\n",
       " <matplotlib.lines.Line2D at 0x7f8d9643f550>,\n",
       " <matplotlib.lines.Line2D at 0x7f8d9643f6a0>,\n",
       " <matplotlib.lines.Line2D at 0x7f8d9643f7f0>,\n",
       " <matplotlib.lines.Line2D at 0x7f8d9643f940>,\n",
       " <matplotlib.lines.Line2D at 0x7f8d9643fa90>,\n",
       " <matplotlib.lines.Line2D at 0x7f8d9643fbe0>,\n",
       " <matplotlib.lines.Line2D at 0x7f8d9643fd30>,\n",
       " <matplotlib.lines.Line2D at 0x7f8d9643fe80>,\n",
       " <matplotlib.lines.Line2D at 0x7f8d9643ffd0>,\n",
       " <matplotlib.lines.Line2D at 0x7f8d9645a160>,\n",
       " <matplotlib.lines.Line2D at 0x7f8d9645a2b0>,\n",
       " <matplotlib.lines.Line2D at 0x7f8d9645a400>,\n",
       " <matplotlib.lines.Line2D at 0x7f8d9645a550>,\n",
       " <matplotlib.lines.Line2D at 0x7f8d9645a6a0>,\n",
       " <matplotlib.lines.Line2D at 0x7f8d9645a7f0>,\n",
       " <matplotlib.lines.Line2D at 0x7f8d9645a940>,\n",
       " <matplotlib.lines.Line2D at 0x7f8d9645aa90>,\n",
       " <matplotlib.lines.Line2D at 0x7f8d9645abe0>,\n",
       " <matplotlib.lines.Line2D at 0x7f8d9645ad30>,\n",
       " <matplotlib.lines.Line2D at 0x7f8db89ac390>,\n",
       " <matplotlib.lines.Line2D at 0x7f8d9645afd0>,\n",
       " <matplotlib.lines.Line2D at 0x7f8d9645c160>,\n",
       " <matplotlib.lines.Line2D at 0x7f8d9645c2b0>,\n",
       " <matplotlib.lines.Line2D at 0x7f8d9645c400>,\n",
       " <matplotlib.lines.Line2D at 0x7f8d9645c550>,\n",
       " <matplotlib.lines.Line2D at 0x7f8d9645c6a0>,\n",
       " <matplotlib.lines.Line2D at 0x7f8d9645c7f0>,\n",
       " <matplotlib.lines.Line2D at 0x7f8d9645c940>,\n",
       " <matplotlib.lines.Line2D at 0x7f8d9645ca90>,\n",
       " <matplotlib.lines.Line2D at 0x7f8d9645ae80>,\n",
       " <matplotlib.lines.Line2D at 0x7f8d9645cd30>]"
      ]
     },
     "execution_count": 407,
     "metadata": {},
     "output_type": "execute_result"
    },
    {
     "data": {
      "image/png": "[encoded data removed]",
      "text/plain": [
       "<Figure size 432x288 with 1 Axes>"
      ]
     },
     "metadata": {
      "needs_background": "light"
     },
     "output_type": "display_data"
    }
   ],
   "source": [
    "plt.plot(house_train_num.drop('SalePrice', axis=1),house_y)"
   ]
  },
  {
   "cell_type": "markdown",
   "metadata": {},
   "source": [
    "### Training and Evaluation Of Model"
   ]
  },
  {
   "cell_type": "code",
   "execution_count": 383,
   "metadata": {},
   "outputs": [],
   "source": [
    "def display_scores(scores):\n",
    "    print(\"Scores:\", scores)\n",
    "    print(\"Mean:\", scores.mean())\n",
    "    print(\"Standard deviation:\", scores.std())"
   ]
  },
  {
   "cell_type": "code",
   "execution_count": 384,
   "metadata": {},
   "outputs": [],
   "source": [
    "from sklearn.linear_model import LinearRegression\n",
    "lin_reg = LinearRegression()"
   ]
  },
  {
   "cell_type": "code",
   "execution_count": 385,
   "metadata": {},
   "outputs": [],
   "source": [
    "from sklearn.tree import DecisionTreeRegressor\n",
    "tree_reg = DecisionTreeRegressor(max_depth=3,min_samples_leaf = 8)"
   ]
  },
  {
   "cell_type": "code",
   "execution_count": 386,
   "metadata": {},
   "outputs": [],
   "source": [
    "from sklearn.ensemble import RandomForestRegressor\n",
    "rnd_reg = RandomForestRegressor(n_estimators=100, n_jobs=-1, max_features = 10, min_samples_leaf=1, random_state=101, bootstrap=False)"
   ]
  },
  {
   "cell_type": "code",
   "execution_count": 387,
   "metadata": {
    "scrolled": false
   },
   "outputs": [],
   "source": [
    "from sklearn.model_selection import cross_val_score\n",
    "tree_scores = cross_val_score(tree_reg, house_x, house_y,scoring=\"neg_mean_squared_error\", cv=3)\n",
    "tree_rmse_scores = np.sqrt(-tree_scores)\n",
    "\n",
    "lin_scores = cross_val_score(lin_reg, house_x, house_y,scoring=\"neg_mean_squared_error\", cv=3)\n",
    "lin_rmse_scores = np.sqrt(-lin_scores)\n",
    "\n",
    "rnd_scores = cross_val_score(rnd_reg, house_x, house_y,scoring=\"neg_mean_squared_error\", cv=3)\n",
    "rnd_rmse_scores = np.sqrt(-rnd_scores)\n"
   ]
  },
  {
   "cell_type": "code",
   "execution_count": 388,
   "metadata": {},
   "outputs": [
    {
     "name": "stdout",
     "output_type": "stream",
     "text": [
      "Scores: [45717.20520888 45972.47647457 44922.05151856]\n",
      "Mean: 45537.24440067156\n",
      "Standard deviation: 447.3161197043076\n"
     ]
    }
   ],
   "source": [
    "display_scores(tree_rmse_scores)"
   ]
  },
  {
   "cell_type": "code",
   "execution_count": 389,
   "metadata": {},
   "outputs": [
    {
     "name": "stdout",
     "output_type": "stream",
     "text": [
      "Scores: [29208.37996336 35285.50480985 40869.54355661]\n",
      "Mean: 35121.14277660894\n",
      "Standard deviation: 4762.068545326257\n"
     ]
    }
   ],
   "source": [
    "display_scores(lin_rmse_scores)"
   ]
  },
  {
   "cell_type": "code",
   "execution_count": 390,
   "metadata": {},
   "outputs": [
    {
     "name": "stdout",
     "output_type": "stream",
     "text": [
      "Scores: [24411.5529022  31422.90674839 29153.17203286]\n",
      "Mean: 28329.210561148295\n",
      "Standard deviation: 2921.067735065146\n"
     ]
    }
   ],
   "source": [
    "display_scores(rnd_rmse_scores)"
   ]
  },
  {
   "cell_type": "code",
   "execution_count": 391,
   "metadata": {},
   "outputs": [],
   "source": [
    "#tree_reg.fit(house_x,house_y)"
   ]
  },
  {
   "cell_type": "code",
   "execution_count": null,
   "metadata": {},
   "outputs": [],
   "source": []
  },
  {
   "cell_type": "code",
   "execution_count": 369,
   "metadata": {
    "scrolled": true
   },
   "outputs": [
    {
     "name": "stdout",
     "output_type": "stream",
     "text": [
      "Id []\n",
      "MSSubClass []\n",
      "LotFrontage []\n",
      "LotArea []\n",
      "OverallQual [0.14568123]\n",
      "OverallCond []\n",
      "YearBuilt []\n",
      "YearRemodAdd []\n",
      "MasVnrArea []\n",
      "BsmtFinSF1 []\n",
      "BsmtFinSF2 []\n",
      "BsmtUnfSF []\n",
      "TotalBsmtSF []\n",
      "1stFlrSF []\n",
      "2ndFlrSF []\n",
      "LowQualFinSF []\n",
      "GrLivArea []\n",
      "BsmtFullBath []\n",
      "BsmtHalfBath []\n",
      "FullBath []\n",
      "HalfBath []\n",
      "BedroomAbvGr []\n",
      "KitchenAbvGr []\n",
      "TotRmsAbvGrd []\n",
      "Fireplaces []\n",
      "GarageYrBlt []\n",
      "GarageCars []\n",
      "GarageArea []\n",
      "WoodDeckSF []\n",
      "OpenPorchSF []\n",
      "EnclosedPorch []\n",
      "3SsnPorch []\n",
      "ScreenPorch []\n",
      "PoolArea []\n",
      "MiscVal []\n",
      "MoSold []\n",
      "YrSold []\n",
      "MSZoning []\n",
      "Street []\n",
      "Alley []\n",
      "LotShape []\n",
      "LandContour []\n",
      "Utilities []\n",
      "LotConfig []\n",
      "LandSlope []\n",
      "Neighborhood []\n",
      "Condition1 []\n",
      "Condition2 []\n",
      "BldgType []\n",
      "HouseStyle []\n",
      "RoofStyle []\n",
      "RoofMatl []\n",
      "Exterior1st []\n",
      "Exterior2nd []\n",
      "MasVnrType []\n",
      "ExterQual []\n",
      "ExterCond []\n",
      "Foundation []\n",
      "BsmtQual []\n",
      "BsmtCond []\n",
      "BsmtExposure []\n",
      "BsmtFinType1 []\n",
      "BsmtFinType2 []\n",
      "Heating []\n",
      "HeatingQC []\n",
      "CentralAir []\n",
      "Electrical []\n",
      "KitchenQual []\n",
      "Functional []\n",
      "FireplaceQu []\n",
      "GarageType []\n",
      "GarageFinish []\n",
      "GarageQual []\n",
      "GarageCond []\n",
      "PavedDrive []\n",
      "PoolQC []\n",
      "Fence []\n",
      "MiscFeature []\n",
      "SaleType []\n",
      "SaleCondition []\n"
     ]
    }
   ],
   "source": [
    "rnd_reg.fit(house_x,house_y)\n",
    "for\tname, score in zip(house_x, rnd_reg.feature_importances_):\n",
    "    print(name, score[score>0.1])"
   ]
  },
  {
   "cell_type": "code",
   "execution_count": 392,
   "metadata": {},
   "outputs": [
    {
     "data": {
      "text/plain": [
       "RandomForestRegressor(bootstrap=False, criterion='mse', max_depth=None,\n",
       "           max_features=10, max_leaf_nodes=None, min_impurity_decrease=0.0,\n",
       "           min_impurity_split=None, min_samples_leaf=1,\n",
       "           min_samples_split=2, min_weight_fraction_leaf=0.0,\n",
       "           n_estimators=100, n_jobs=-1, oob_score=False, random_state=101,\n",
       "           verbose=0, warm_start=False)"
      ]
     },
     "execution_count": 392,
     "metadata": {},
     "output_type": "execute_result"
    }
   ],
   "source": [
    "rnd_reg.fit(house_x,house_y)"
   ]
  },
  {
   "cell_type": "code",
   "execution_count": 393,
   "metadata": {},
   "outputs": [],
   "source": [
    "pred = rnd_reg.predict(house_test_prepd)"
   ]
  },
  {
   "cell_type": "code",
   "execution_count": 399,
   "metadata": {},
   "outputs": [],
   "source": [
    "dfResult = pd.DataFrame()"
   ]
  },
  {
   "cell_type": "code",
   "execution_count": 401,
   "metadata": {},
   "outputs": [],
   "source": [
    "dfResult['Id'] = house_test['Id']\n",
    "dfResult['SalePrice'] = pred\n",
    "dfResult.to_csv('result.csv', index=False)\n"
   ]
  },
  {
   "cell_type": "code",
   "execution_count": null,
   "metadata": {},
   "outputs": [],
   "source": []
  }
 ],
 "metadata": {
  "kernelspec": {
   "display_name": "Python 3",
   "language": "python",
   "name": "python3"
  },
  "language_info": {
   "codemirror_mode": {
    "name": "ipython",
    "version": 3
   },
   "file_extension": ".py",
   "mimetype": "text/x-python",
   "name": "python",
   "nbconvert_exporter": "python",
   "pygments_lexer": "ipython3",
   "version": "3.5.2"
  }
 },
 "nbformat": 4,
 "nbformat_minor": 2
}
